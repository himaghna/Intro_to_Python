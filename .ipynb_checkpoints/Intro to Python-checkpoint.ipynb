{
 "cells": [
  {
   "cell_type": "markdown",
   "metadata": {},
   "source": [
    "<h1>Introduction to Python</h1>\n",
    "<h2>Outline of the Workshop:</h2>\n",
    "<ul>\n",
    "    <li>Part1: Setting up Python 3x and Anaconda</li>\n",
    "    <li>Formulating the problem</li>\n",
    "    <li>Coding Basics</li>\n",
    "    <ul>\n",
    "        <li>Variables and Data Structures</li>\n",
    "        <li>Controlling flow of the code using conditionals (if/ elif/ else)</li>\n",
    "        <li>Looping using for/while</li>\n",
    "        <li>IO Using Keyboard and Files</li>\n",
    "        <li>Functions</li>\n",
    "     </ul>\n",
    "    <li>Break (10 minutes) </li>\n",
    "    <li>Part 2: Coding it up!</li>\n",
    "    <li>Resources</li>\n",
    "</ul>\n",
    "\n",
    "<h2>Goals of the Workshop</h2>\n",
    "<ul>\n",
    "    <li>Python Installation</li>\n",
    "    <li>Introduction to Python</li>\n",
    "    <li>Familiarity with basic operations in Python</li>\n",
    "</ul>\n",
    "\n",
    "<h2>Installation Guide</h2>\n",
    "Python Anaconda Distribution\n",
    "<ol type=\"a\">\n",
    "    <li>Go to https://www.anaconda.com/download/</li>\n",
    "    <li>Choose your OS (MacOS/ Windows etc.)</li>\n",
    "    <li>Select Python version 3.7</li>\n",
    "    <li>Download and follow instructions (In case of difficulty, make it known!)</li>\n",
    "</ol>\n",
    "\n",
    "IDE (Integrated Development Environment)\n",
    "Choose from any of the following\n",
    "<ul>\n",
    "    <li>PyCharm: https://www.jetbrains.com/pycharm/</li>\n",
    "    <li>Spyder: https://www.spyder-ide.org</li>\n",
    "    <li>Sublime Text: https://www.sublimetext.com</li>\n",
    "    <li>Visual Studio Code: https://code.visualstudio.com</li>\n",
    "</ul>\n",
    "\n",
    "<b>At this point you should have Python 3x set up and your IDE configured. If you are missing any of these steps, please let us know!</b>\n",
    "\n",
    "Ok, now that everything is set up time to test it. Fire up the engines!\n"
   ]
  },
  {
   "cell_type": "code",
   "execution_count": 52,
   "metadata": {},
   "outputs": [
    {
     "name": "stdout",
     "output_type": "stream",
     "text": [
      "Hello World!\n"
     ]
    }
   ],
   "source": [
    "print(\"Hello World!\")"
   ]
  },
  {
   "cell_type": "markdown",
   "metadata": {},
   "source": [
    "Now that we are set up with Python, time to code a fun problem! In the following section, an interactive Trivia Game is coded. Go ahead and run it!"
   ]
  },
  {
   "cell_type": "code",
   "execution_count": 83,
   "metadata": {},
   "outputs": [
    {
     "name": "stdout",
     "output_type": "stream",
     "text": [
      "--- Welcome to Trivia! ---\n",
      "Press any key to continue\n",
      "\n",
      "Who is the only non-Jedi character to use a lightsaber in the original Star Wars universe?\n",
      "\n",
      "A. Princess Leia    B. R2-D2    C. Han Solo D. C3PO\n",
      "\n",
      "Enter an option: c\n",
      "Five points to Gryffindor!\n",
      "\n",
      "Do you want to continue? (Y/N)y\n",
      "\n",
      "Which of these is NOT a Pink Floyd album?\n",
      "\n",
      "A. The Dark Side of the Moon\tB. Meddle\tC. IV\tD. The Wall\n",
      "\n",
      "Enter an option: c\n",
      "Five points to Gryffindor!\n",
      "\n",
      "Do you want to continue? (Y/N)y\n",
      "\n",
      "What does the Doctor's (Doctor Who) space-time ship look like?\n",
      "\n",
      "A. Flying Saucer    B. Telephone Booth  C. Cheese-sandwich  D. Car\n",
      "\n",
      "Enter an option: b\n",
      "Five points to Gryffindor!\n",
      "\n",
      "Do you want to continue? (Y/N)y\n",
      "\n",
      "Which group holds the record for the most Grammies?\n",
      "\n",
      "A. U2\tB. The Beatles\tC. Led Zeppelin  D. Beyoncé\n",
      "\n",
      "Enter an option: a\n",
      "Five points to Gryffindor!\n",
      "\n",
      "Do you want to continue? (Y/N)y\n",
      "\n",
      "Where does Sherlock Holmes meet his nemesis who he refer to as \"the woman\"?\n",
      "\n",
      "A. A Study in Scarlet\tB. A Scandal in Bohemia\t C. The Sign of Four\tD. The Hound of Baskervilles\n",
      "\n",
      "Enter an option: b\n",
      "Five points to Gryffindor!\n",
      "\n",
      "Do you want to continue? (Y/N)y\n",
      "\n",
      "Which species does the Doctor (Doctor Who) belong to?\n",
      "\n",
      "A. Time Lord    B. Human    C. Dalek    D. Voord\n",
      "\n",
      "Enter an option: a\n",
      "Five points to Gryffindor!\n",
      "\n",
      "Do you want to continue? (Y/N)y\n",
      "\n",
      "Which of these is NOT an unforgivable curse (in the Harry Potter Universe)?\n",
      "\n",
      "A. Avada Kedavra    B. Crucio   C. Petrificus Totalus   D. Imperio\n",
      "\n",
      "Enter an option: c\n",
      "Five points to Gryffindor!\n",
      "\n",
      "Do you want to continue? (Y/N)y\n",
      "\n",
      "Who is the author of the Lost World?\n",
      "\n",
      "A. Sir Arthur Conan Doyle\tB. Philip K. Dick\tC. Isaac Asimov\tD. None\n",
      "\n",
      "Enter an option: a\n",
      "Five points to Gryffindor!\n",
      "\n",
      "Do you want to continue? (Y/N)n\n",
      "Your score is 8/8\n"
     ]
    }
   ],
   "source": [
    "\"\"\"\n",
    "@uthor: Himaghna Bhattacharjee, 6th January 2019\n",
    "Description: An interactive quiz !\n",
    "\"\"\"\n",
    "\n",
    "import numpy as np\n",
    "\n",
    "def ask_question(question_number, questions):\n",
    "    \"\"\"\n",
    "\n",
    "    :param question_number:(int) Question number to ask\n",
    "    :param questions:(string) List of questions\n",
    "    :return: (string) Question to ask\n",
    "    \"\"\"\n",
    "    #consecutive lines in list(questions) is question(line1) and option(line2)\n",
    "    #hence line number for kth questions is 2*k and line number for options\n",
    "    #is 2*k+1\n",
    "    question_line = questions[2*question_number]\n",
    "    options_line = questions[2*question_number + 1]\n",
    "    return '\\n'+ question_line +'\\n'+options_line\n",
    "\n",
    "def check_correctness(response, question_number, answers):\n",
    "    \"\"\"\n",
    "\n",
    "    :param response: response that was entered to the question\n",
    "    :param question_number: question number for the question asked\n",
    "    :param answers: list of all answers indexed by question number\n",
    "    :return: True (if correct) False otherwise\n",
    "    \"\"\"\n",
    "    correct_answer = answers[question_number].strip('\\n').lower()\n",
    "    if response == correct_answer:\n",
    "        return True  # correct\n",
    "    return False  # incorrect\n",
    "\n",
    "def __main__():\n",
    "    question_file = './questions.txt'\n",
    "    answer_file = './answers.txt'\n",
    "    with open(question_file, \"r\") as fp:\n",
    "        questions = fp.readlines()\n",
    "    with open(answer_file, \"r\") as fp:\n",
    "        answers = fp.readlines()\n",
    "    quiz_size = len(answers)\n",
    "    questions_asked = list()\n",
    "    correct_answered = 0\n",
    "    print(\"--- Welcome to Trivia! ---\")\n",
    "    to_continue = input(\"Press any key to continue\")\n",
    "    to_continue = True\n",
    "    while to_continue:\n",
    "        question_number = np.random.randint(low=0, high=quiz_size)\n",
    "        if question_number in questions_asked:\n",
    "            # question has already been asked!\n",
    "            continue\n",
    "        else:\n",
    "            print(ask_question(question_number, questions))\n",
    "            response = input(\"Enter an option: \")\n",
    "            response = response.lower()  #convert response to lowercase\n",
    "            if response not in ['a', 'b', 'c', 'd']:\n",
    "                print(\"Invalid response. Game will continue\\n\")\n",
    "                continue\n",
    "            else:\n",
    "                correct = check_correctness(response=response,\n",
    "                                            question_number=question_number,\n",
    "                                            answers=answers)\n",
    "                if not correct:\n",
    "                    # incorrect answer\n",
    "                    print(\"Incorrect answer :(\\n\")\n",
    "                else:\n",
    "                    #correct answer\n",
    "                    correct_answered += 1\n",
    "                    print(\"Five points to Gryffindor!\\n\")\n",
    "                continue_response = input(\"Do you want to continue? (Y/N)\")\n",
    "                continue_response = continue_response.lower()\n",
    "                if continue_response == 'y':\n",
    "                    pass\n",
    "                else:\n",
    "                    to_continue = False  # don't continue\n",
    "            questions_asked.append(question_number)\n",
    "            if len(questions_asked) == quiz_size and to_continue:\n",
    "                print(\"Questions exhausted. Exiting\")\n",
    "                to_continue = False\n",
    "    # print summary\n",
    "    print(\"Your score is {}/{}\".format(correct_answered, len(questions_asked)))\n",
    "\n",
    "\n",
    "if __name__ == __main__():\n",
    "    __main__()\n",
    "\n"
   ]
  },
  {
   "cell_type": "markdown",
   "metadata": {},
   "source": [
    "<h2>Formulating the Problem</h2>\n",
    "\n",
    "The problem can be broken down into the following steps\n",
    "<ol>\n",
    "    <li>Load up a bunch of questions and corresponding answers (File Handling)</li>\n",
    "    <li>Ask the user if they are interested in playing (IO)</li>\n",
    "    <li>Draw a random question and display</li>\n",
    "    <li>Take user input</li>\n",
    "    <li>Evaluate correctness of response(Conditional program flow)</li>\n",
    "    <li>Ask to continue. Go to step 3 is Yes. Exit Otherwise. (Looping) </li>\n",
    "</ol>\n"
   ]
  },
  {
   "cell_type": "markdown",
   "metadata": {},
   "source": [
    "<h2>Coding Basics</h2>\n",
    "\n",
    "We will go through this part quickly because its not as exciting (but unfortunately important!)\n",
    "<h2>Variables and Data Structures</h2>\n",
    "\n",
    "<b>Simple Variables:</b>\n",
    "    \n",
    "<ul>\n",
    "    <li>Integers (int)</li>\n",
    "    <li>Floating point decimal (float)</li>\n",
    "    <li>String (str)</li>\n",
    "    <li>Boolean (bool)</li>\n",
    "</ul>"
   ]
  },
  {
   "cell_type": "code",
   "execution_count": 54,
   "metadata": {},
   "outputs": [
    {
     "name": "stdout",
     "output_type": "stream",
     "text": [
      "\"a\" is a <class 'int'>\n",
      "\"b\" is a <class 'float'>\n",
      "\"c\" is a <class 'str'>\n",
      "\"d\" is a <class 'bool'>\n"
     ]
    }
   ],
   "source": [
    "a = 1\n",
    "b = 1.5\n",
    "c = \"Hello World\"\n",
    "d = True\n",
    "print('\"a\" is a {}'.format(type(a)))\n",
    "print('\"b\" is a {}'.format(type(b)))\n",
    "print('\"c\" is a {}'.format(type(c)))\n",
    "print('\"d\" is a {}'.format(type(d)))"
   ]
  },
  {
   "cell_type": "code",
   "execution_count": 55,
   "metadata": {},
   "outputs": [
    {
     "data": {
      "text/plain": [
       "'H'"
      ]
     },
     "execution_count": 55,
     "metadata": {},
     "output_type": "execute_result"
    }
   ],
   "source": [
    "# let's look at the first letter of the string \"c\"\n",
    "c[0]"
   ]
  },
  {
   "cell_type": "code",
   "execution_count": 56,
   "metadata": {},
   "outputs": [
    {
     "data": {
      "text/plain": [
       "'d'"
      ]
     },
     "execution_count": 56,
     "metadata": {},
     "output_type": "execute_result"
    }
   ],
   "source": [
    "# last letter of \"c\"\n",
    "c[-1]"
   ]
  },
  {
   "cell_type": "code",
   "execution_count": 57,
   "metadata": {},
   "outputs": [
    {
     "data": {
      "text/plain": [
       "11"
      ]
     },
     "execution_count": 57,
     "metadata": {},
     "output_type": "execute_result"
    }
   ],
   "source": [
    "# How many characters does the string \"c\" contain?\n",
    "len(c)"
   ]
  },
  {
   "cell_type": "markdown",
   "metadata": {},
   "source": [
    "<b>Complex Variables:</b>\n",
    "\n",
    "<ul>\n",
    "    <li>list</li>\n",
    "    <li>dictionary</li>\n",
    "    <li>tuples</li>\n",
    "</ul>\n",
    "  "
   ]
  },
  {
   "cell_type": "code",
   "execution_count": 58,
   "metadata": {},
   "outputs": [
    {
     "name": "stdout",
     "output_type": "stream",
     "text": [
      "\"li\" is a <class 'list'>\n",
      "\"di\" is a <class 'dict'>\n",
      "\"tu\" is a <class 'tuple'>\n"
     ]
    }
   ],
   "source": [
    "li = [1, 'b', 'c', True]\n",
    "di = {\n",
    "    'key': 'value'\n",
    "    }\n",
    "tu = (1, 'hello', 3)\n",
    "print('\"li\" is a {}'.format(type(li)))\n",
    "print('\"di\" is a {}'.format(type(di)))\n",
    "print('\"tu\" is a {}'.format(type(tu)))"
   ]
  },
  {
   "cell_type": "code",
   "execution_count": 59,
   "metadata": {},
   "outputs": [
    {
     "data": {
      "text/plain": [
       "'b'"
      ]
     },
     "execution_count": 59,
     "metadata": {},
     "output_type": "execute_result"
    }
   ],
   "source": [
    "# Lets take a look at the second element of list \"li\"\n",
    "li[1]"
   ]
  },
  {
   "cell_type": "code",
   "execution_count": 60,
   "metadata": {},
   "outputs": [
    {
     "data": {
      "text/plain": [
       "4"
      ]
     },
     "execution_count": 60,
     "metadata": {},
     "output_type": "execute_result"
    }
   ],
   "source": [
    "# Length of the list\n",
    "len(li)"
   ]
  },
  {
   "cell_type": "code",
   "execution_count": 61,
   "metadata": {},
   "outputs": [],
   "source": [
    "# Adding to the list\n",
    "li.append(\"New Element\")"
   ]
  },
  {
   "cell_type": "code",
   "execution_count": 62,
   "metadata": {},
   "outputs": [
    {
     "data": {
      "text/plain": [
       "[1, 'b', 'c', True, 'New Element']"
      ]
     },
     "execution_count": 62,
     "metadata": {},
     "output_type": "execute_result"
    }
   ],
   "source": [
    "# Let's take a look at the updated list\n",
    "li"
   ]
  },
  {
   "cell_type": "code",
   "execution_count": 63,
   "metadata": {},
   "outputs": [],
   "source": [
    "# Modifying the list\n",
    "li[-1] = \"New New Element\""
   ]
  },
  {
   "cell_type": "code",
   "execution_count": 64,
   "metadata": {},
   "outputs": [
    {
     "data": {
      "text/plain": [
       "[1, 'b', 'c', True, 'New New Element']"
      ]
     },
     "execution_count": 64,
     "metadata": {},
     "output_type": "execute_result"
    }
   ],
   "source": [
    "# Updated list\n",
    "li"
   ]
  },
  {
   "cell_type": "markdown",
   "metadata": {},
   "source": [
    "<h2>Controlling flow of the code using conditionals (if/ elif/ else)</h2>\n"
   ]
  },
  {
   "cell_type": "code",
   "execution_count": 65,
   "metadata": {
    "scrolled": true
   },
   "outputs": [
    {
     "name": "stdout",
     "output_type": "stream",
     "text": [
      "a is <=1\n"
     ]
    }
   ],
   "source": [
    "a = 1\n",
    "if a>2:\n",
    "    #condition 1\n",
    "    print(\"a is greater than two\")\n",
    "elif a <2 and a> 1:\n",
    "    #condition 2\n",
    "    print(\"a is in (1,2)\")\n",
    "else:\n",
    "    #final condition\n",
    "    print(\"a is <=1\")\n"
   ]
  },
  {
   "cell_type": "markdown",
   "metadata": {},
   "source": [
    "<h1>Looping using for/while</h1>"
   ]
  },
  {
   "cell_type": "code",
   "execution_count": 66,
   "metadata": {},
   "outputs": [
    {
     "name": "stdout",
     "output_type": "stream",
     "text": [
      "Values in a:\n",
      "Cat\n",
      "Dog\n",
      "Bunny\n"
     ]
    }
   ],
   "source": [
    "a = ['Cat', 'Dog', 'Bunny']\n",
    "print(\"Values in a:\")\n",
    "# i iterates through the list 'a' taking the value of each of its contents in turn\n",
    "for i in a:\n",
    "    print(i)\n"
   ]
  },
  {
   "cell_type": "code",
   "execution_count": 67,
   "metadata": {},
   "outputs": [
    {
     "name": "stdout",
     "output_type": "stream",
     "text": [
      "0\n",
      "1\n",
      "2\n",
      "3\n",
      "4\n"
     ]
    }
   ],
   "source": [
    "#range(low, high) is a function which returns int value sequentially in the region [low, high)\n",
    "for j in range(0, 5):\n",
    "    print(j)"
   ]
  },
  {
   "cell_type": "code",
   "execution_count": 68,
   "metadata": {},
   "outputs": [
    {
     "name": "stdout",
     "output_type": "stream",
     "text": [
      "value is 1\n",
      "value is 2\n",
      "value is 3\n",
      "value is 4\n",
      "value is 5\n"
     ]
    }
   ],
   "source": [
    "# Using while loops\n",
    "stop_at = 5\n",
    "value = 0\n",
    "while value < stop_at:  # as long as this condition holds, loop will run\n",
    "    value +=1  # increment value by 1\n",
    "    print(\"value is {}\".format(value))"
   ]
  },
  {
   "cell_type": "code",
   "execution_count": 69,
   "metadata": {},
   "outputs": [
    {
     "name": "stdout",
     "output_type": "stream",
     "text": [
      "value is 1\n",
      "value is 3\n",
      "value is 4\n",
      "value is 5\n"
     ]
    }
   ],
   "source": [
    "# Using continue statement to skip a loop\n",
    "stop_at_2 = 5\n",
    "value_2 = 0\n",
    "while value_2 < stop_at_2:  # as long as this condition holds, loop will run\n",
    "    value_2 +=1  # increment value by 1\n",
    "    if value_2 == 2:\n",
    "        continue\n",
    "    print(\"value is {}\".format(value_2))"
   ]
  },
  {
   "cell_type": "markdown",
   "metadata": {},
   "source": [
    "<h3>Exercise </h3>\n",
    "Make a list of your favourite books (10 elements). Assuming that the list is ordered in terms of your preference (first book being the one you like the most), make another list for your freind who wants to know your \"Top 5 books\""
   ]
  },
  {
   "cell_type": "markdown",
   "metadata": {},
   "source": [
    "<h2> IO Using Keyboard and File</h2>\n"
   ]
  },
  {
   "cell_type": "markdown",
   "metadata": {},
   "source": [
    "<h3>Using The Keyboard</h3>"
   ]
  },
  {
   "cell_type": "code",
   "execution_count": 70,
   "metadata": {},
   "outputs": [
    {
     "name": "stdout",
     "output_type": "stream",
     "text": [
      "This is a prompt. Enter something\n"
     ]
    }
   ],
   "source": [
    "response = input(\"This is a prompt. Enter something\")"
   ]
  },
  {
   "cell_type": "code",
   "execution_count": 71,
   "metadata": {},
   "outputs": [
    {
     "name": "stdout",
     "output_type": "stream",
     "text": [
      "\n"
     ]
    },
    {
     "data": {
      "text/plain": [
       "str"
      ]
     },
     "execution_count": 71,
     "metadata": {},
     "output_type": "execute_result"
    }
   ],
   "source": [
    "# Let's check what the response holds\n",
    "print(response)\n",
    "type(response)  #response always gets stored as a string\n"
   ]
  },
  {
   "cell_type": "code",
   "execution_count": 72,
   "metadata": {
    "scrolled": true
   },
   "outputs": [
    {
     "name": "stdout",
     "output_type": "stream",
     "text": [
      "Enter a number9\n",
      "number_response <class 'str'>\n",
      "typecast_response <class 'int'>\n"
     ]
    }
   ],
   "source": [
    "number_response = input(\"Enter a number\")\n",
    "print(\"number_response\", type(number_response)) # still a string\n",
    "typecast_response = int(number_response) #forcing it to convert to int\n",
    "print(\"typecast_response\", type(typecast_response)) # now it is a number"
   ]
  },
  {
   "cell_type": "markdown",
   "metadata": {},
   "source": [
    "<h3> Using Files</h3>"
   ]
  },
  {
   "cell_type": "markdown",
   "metadata": {},
   "source": [
    "we open the file using the <i>with</i> statement which automatically closes the file once the execution goes out of scope"
   ]
  },
  {
   "cell_type": "code",
   "execution_count": 73,
   "metadata": {},
   "outputs": [],
   "source": [
    "#create a sample file called \"test.txt\"\n",
    "# Opens the file test.txt in read mode (\"r\") and assigns it to a handle (file_pointer)\n",
    "with open('test.txt', \"r\") as file_pointer:  \n",
    "    contents_of_file = file_pointer.readlines()   #loads all the contents of the file onto contents_of_file\n",
    "# This line is outside the scope of the with statement\n",
    "\n",
    "\n"
   ]
  },
  {
   "cell_type": "markdown",
   "metadata": {},
   "source": [
    "Let's take a look at contents_of_file"
   ]
  },
  {
   "cell_type": "code",
   "execution_count": 74,
   "metadata": {},
   "outputs": [
    {
     "data": {
      "text/plain": [
       "['This is the first line\\n',\n",
       " 'This is the second line\\n',\n",
       " 'This is the third line\\n']"
      ]
     },
     "execution_count": 74,
     "metadata": {},
     "output_type": "execute_result"
    }
   ],
   "source": [
    "contents_of_file"
   ]
  },
  {
   "cell_type": "markdown",
   "metadata": {},
   "source": [
    "The contents get stored as a list! So we can individually select each line"
   ]
  },
  {
   "cell_type": "code",
   "execution_count": 75,
   "metadata": {},
   "outputs": [
    {
     "name": "stdout",
     "output_type": "stream",
     "text": [
      "The first line is:\n",
      "This is the first line\n",
      "\n"
     ]
    }
   ],
   "source": [
    "print(\"The first line is:\")\n",
    "print(contents_of_file[0])"
   ]
  },
  {
   "cell_type": "markdown",
   "metadata": {},
   "source": [
    "In the above example we opened a file in read mode (\"r\"). In order to write to a file, we would have opened it in \n",
    "write mode (\"w\"). We will not discuss writing to files."
   ]
  },
  {
   "cell_type": "markdown",
   "metadata": {},
   "source": [
    "<h1>Functions</h1>\n",
    "Functions are blocks of code which can be called upon to execute from the main body of the program."
   ]
  },
  {
   "cell_type": "markdown",
   "metadata": {},
   "source": [
    "You can think of functions as \"helpers\" which takes an input, performas a task, and (often) returns an output."
   ]
  },
  {
   "cell_type": "markdown",
   "metadata": {},
   "source": [
    "For example, one way of adding three number would be to do it in line:"
   ]
  },
  {
   "cell_type": "code",
   "execution_count": 76,
   "metadata": {},
   "outputs": [
    {
     "name": "stdout",
     "output_type": "stream",
     "text": [
      "6\n"
     ]
    }
   ],
   "source": [
    "# main code body\n",
    "inp1 = 1\n",
    "inp2 = 2\n",
    "inp3 = 3\n",
    "sum = inp1 + inp2 + inp3\n",
    "print(sum)"
   ]
  },
  {
   "cell_type": "markdown",
   "metadata": {},
   "source": [
    "While this is ok, it makes the main code look messier. To make it cleaner, we can make a function which\n",
    "takes in three inputs and returns their sum:"
   ]
  },
  {
   "cell_type": "code",
   "execution_count": 77,
   "metadata": {},
   "outputs": [],
   "source": [
    "# notice the use of the 'def' keyword to define a function\n",
    "def sum_it(a, b, c):\n",
    "    output = a + b + c\n",
    "    return output  # this output is returned to the calling code"
   ]
  },
  {
   "cell_type": "code",
   "execution_count": 78,
   "metadata": {},
   "outputs": [
    {
     "name": "stdout",
     "output_type": "stream",
     "text": [
      "6\n"
     ]
    }
   ],
   "source": [
    "# main body of code\n",
    "inp1 = 1\n",
    "inp2 = 2\n",
    "inp3 = 3\n",
    "sum = sum_it(inp1, inp2, inp3)   # note than sum_it() has already been defined before\n",
    "print(sum)"
   ]
  },
  {
   "cell_type": "markdown",
   "metadata": {},
   "source": [
    "Pre-made functions for performing useful manipulations come bundled in standard packages which can be imported using the <i>import</i> keyword. Let's take a look at an example"
   ]
  },
  {
   "cell_type": "code",
   "execution_count": 79,
   "metadata": {},
   "outputs": [],
   "source": [
    "import numpy as np  #imports the numpy package which is has functions for performing linear algebra manipulations\n",
    "# np is the optional, user-defined 'nickname' that you can use to refer to numpy in your code"
   ]
  },
  {
   "cell_type": "code",
   "execution_count": 80,
   "metadata": {},
   "outputs": [
    {
     "name": "stdout",
     "output_type": "stream",
     "text": [
      "6\n"
     ]
    }
   ],
   "source": [
    "# randint(low, high) is a function in numpy which generates a random integer in the range [low, high)\n",
    "random_number = np.random.randint(low=0, high=10) # The '.' operator is used for traversing the hierarchy\n",
    "print(random_number)\n",
    "               "
   ]
  },
  {
   "cell_type": "markdown",
   "metadata": {},
   "source": [
    "<h3>Exercise</h3>\n",
    "\n",
    "Make a function which takes in the filename and returns the contents of the file"
   ]
  },
  {
   "cell_type": "markdown",
   "metadata": {},
   "source": [
    "<h1> Break (10 minutes) </h1>"
   ]
  },
  {
   "cell_type": "markdown",
   "metadata": {},
   "source": [
    "<h1> Part 2: Coding it up! </h1>"
   ]
  },
  {
   "cell_type": "markdown",
   "metadata": {},
   "source": [
    "In this part of the workshop you are given the pseudocode of the problem and two helper functions you will need.\n",
    "You are asked to apply what was dicsussed in the previous section to complete the rest.\n",
    "\n"
   ]
  },
  {
   "cell_type": "markdown",
   "metadata": {},
   "source": [
    "<b> Now is the time to ask questions! Let us know whenever you get stumped!</b>"
   ]
  },
  {
   "cell_type": "markdown",
   "metadata": {},
   "source": [
    "GO!"
   ]
  },
  {
   "cell_type": "markdown",
   "metadata": {},
   "source": [
    "<h2>Supplied Files</h2>\n",
    "\n",
    "Two supplied files, one for questions (<i>questions.txt</i>) and one for answers (<i>answers.txt</i>) can be found on the Github page. If you don't have access to Github, let us know so we can send them to you."
   ]
  },
  {
   "cell_type": "markdown",
   "metadata": {},
   "source": [
    "<h2>Supplied Functions</h2>\n",
    "\n",
    "The followin functions have been supplied to help your code. Take a few minutes to look at them to make sure you understand what they are doing. If not let us know."
   ]
  },
  {
   "cell_type": "code",
   "execution_count": 81,
   "metadata": {},
   "outputs": [],
   "source": [
    "def ask_question(question_number, questions):\n",
    "    \"\"\"\n",
    "\n",
    "    :param question_number:(int) Question number to ask\n",
    "    :param questions:(string) List of questions\n",
    "    :return: (string) Question to ask\n",
    "    \"\"\"\n",
    "    #consecutive lines in list(questions) is question(line1) and option(line2)\n",
    "    #hence line number for kth questions is 2*k and line number for options\n",
    "    #is 2*k+1\n",
    "    question_line = questions[2*question_number]\n",
    "    options_line = questions[2*question_number + 1]\n",
    "    return '\\n' + question_line +'\\n'+options_line"
   ]
  },
  {
   "cell_type": "code",
   "execution_count": 82,
   "metadata": {},
   "outputs": [],
   "source": [
    "def check_correctness(response, question_number, answers):\n",
    "    \"\"\"\n",
    "\n",
    "    :param response: response that was entered to the question\n",
    "    :param question_number: question number for the question asked\n",
    "    :param answers: list of all answers indexed by question number\n",
    "    :return: True (if correct) False otherwise\n",
    "    \"\"\"\n",
    "    correct_answer = answers[question_number].strip('\\n').lower()\n",
    "    if response == correct_answer:\n",
    "        return True  # correct\n",
    "    return False  # incorrect"
   ]
  },
  {
   "cell_type": "markdown",
   "metadata": {},
   "source": [
    "<h2>Pseudo-Code</h2>\n",
    "<ol type =\"a\">\n",
    "    <li>Load the contents of the file questions.txt (supplied) onto a variable (questions)</li>\n",
    "    <li>Load the contents of the file answers.txt (supplied) onto a variable (answers)</li>\n",
    "    <li>Initialize an empty list (questions_asked) to keep track of questions already asked, to avoid repition</li>\n",
    "    <li>Initialize variable to keep track of number of questions correctly answered (correct_answered)</li>\n",
    "    <li>Initial print statement (\"Welcome to Trivia!\")</li>\n",
    "    <li>Wait for user input to continue</li>\n",
    "    <li><b>do</b></li>\n",
    "    <ol><i>\n",
    "        <li>Draw a random integer number between 0 and (total number of questions in file)</li>\n",
    "        <li>Check if the drawn number was already drawn before (present in questions_asked)</li>\n",
    "        <ul>\n",
    "            <li>If yes, continue to new loop iteration (avoids repition)</li>\n",
    "        </ul>\n",
    "        <li>Use the given function ask_question(question_number, questions) to print the question</li>\n",
    "        <li>Take user input</li>\n",
    "        <li>Convert user input to lower case using response.lower() which is a built in method for strings</li>\n",
    "        <li>Check to see if the response is valid (i.e. it is 'a', 'b', 'c' or 'd')</li>\n",
    "        <ul>\n",
    "            <li>If not valid, print prompt and continue to new loop iteration (ask a new question) </li>\n",
    "        </ul>\n",
    "        <li>Check correctness of response using the supplied function check_correctness(response,\n",
    "                                            question_number,\n",
    "            answers)</li>\n",
    "        <li>If incorrect prompt</li>\n",
    "        <li>If correct</li>\n",
    "        <ol>\n",
    "            <li>prompt</li>\n",
    "            <li>update score by updating variable correct_answered</li>\n",
    "        </ol>\n",
    "        <li>Add question_number to list questions_asked</li>\n",
    "        <li>If size of list questions_asked = total number of questions exit while loop</li>\n",
    "        <li>Else ask user if they wish to continue (Y/N)</li>\n",
    "        <li>If yes continue else break from while loop</li></i>\n",
    "    </ol>\n",
    "    <li><b>While user wants to continue</b></li>\n",
    "    <li>Show User score</li>\n",
    "</ol>\n",
    "    "
   ]
  },
  {
   "cell_type": "markdown",
   "metadata": {},
   "source": [
    "<h1>Resources</h1>\n",
    "<ul>\n",
    "    <li><b>\"Think Python\"</b>; Allen Downey, Green Tree Press; https://www.greenteapress.com/thinkpython/thinkpython.pdf</li>\n",
    "    <li><b>Video Series</b>:  https://www.youtube.com/watch?v=J5GevIHNctM, https://www.youtube.com/playlist?list=PL-osiE80TeTsqhIuOqKhwlXsIBIdSeYtc</li>\n",
    "        "
   ]
  }
 ],
 "metadata": {
  "kernelspec": {
   "display_name": "Python 3",
   "language": "python",
   "name": "python3"
  },
  "language_info": {
   "codemirror_mode": {
    "name": "ipython",
    "version": 3
   },
   "file_extension": ".py",
   "mimetype": "text/x-python",
   "name": "python",
   "nbconvert_exporter": "python",
   "pygments_lexer": "ipython3",
   "version": "3.7.1"
  }
 },
 "nbformat": 4,
 "nbformat_minor": 2
}
